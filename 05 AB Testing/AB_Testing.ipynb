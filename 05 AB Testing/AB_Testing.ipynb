{
 "cells": [
  {
   "cell_type": "markdown",
   "metadata": {
    "id": "iKW7TrM7FWH9"
   },
   "source": [
    "## Import Data"
   ]
  },
  {
   "cell_type": "code",
   "execution_count": null,
   "metadata": {
    "colab": {
     "base_uri": "https://localhost:8080/"
    },
    "id": "NnwjQrC-7pBt",
    "outputId": "fe7ab173-55cc-4d87-d1b3-bdaf4b616d11"
   },
   "outputs": [
    {
     "name": "stdout",
     "output_type": "stream",
     "text": [
      "Drive already mounted at /content/drive; to attempt to forcibly remount, call drive.mount(\"/content/drive\", force_remount=True).\n"
     ]
    }
   ],
   "source": [
    "import pandas as pd\n",
    "import numpy as np\n",
    "import matplotlib as plt\n",
    "import seaborn as sns\n",
    "\n",
    "from google.colab import drive\n",
    "drive.mount('/content/drive')"
   ]
  },
  {
   "cell_type": "code",
   "execution_count": null,
   "metadata": {
    "colab": {
     "base_uri": "https://localhost:8080/"
    },
    "id": "UKROiGA_7wxu",
    "outputId": "38915231-037a-407e-f81a-a844c12bc584"
   },
   "outputs": [
    {
     "name": "stdout",
     "output_type": "stream",
     "text": [
      "[['Timestamp', 'รูปไหนดึงดูดให้ท่านเข้าร่วมโปรโมชั่น \"สมัคร Connext ฟรี Donut 2 ชิ้น\" มากกว่ากัน', 'เพศ', 'อายุ', 'ท่านชอบกินโดนัทหรือไม่'], ['31/10/2021 17:14:15', 'Picture B', 'ชาย', '31-35', 'ชอบ'], ['31/10/2021 17:14:22', 'Picture A', 'ชาย', '31-35', 'ชอบ'], ['31/10/2021 17:15:30', 'Picture B', 'ชาย', '20-25', 'ไม่ชอบ'], ['31/10/2021 17:15:34', 'Picture A', 'ชาย', '31-35', 'ชอบ'], ['31/10/2021 17:15:37', 'Picture A', 'ชาย', '26-30', 'ชอบ'], ['31/10/2021 17:16:04', 'Picture A', 'ชาย', '36-40', 'ชอบ'], ['31/10/2021 17:16:06', 'Picture A', 'ชาย', '26-30', 'ชอบ'], ['31/10/2021 17:16:08', 'Picture A', 'ชาย', '26-30', 'ชอบ'], ['31/10/2021 17:16:28', 'Picture B', 'ชาย', '26-30', 'ชอบ'], ['31/10/2021 17:16:46', 'Picture B', 'ชาย', '26-30', 'ไม่ชอบ'], ['31/10/2021 17:16:57', 'Picture B', 'ชาย', '31-35', 'ชอบ'], ['31/10/2021 17:18:10', 'Picture B', 'ชาย', '31-35', 'ชอบ'], ['31/10/2021 17:18:40', 'Picture A', 'หญิง', '26-30', 'ไม่ชอบ'], ['31/10/2021 17:18:59', 'Picture B', 'ชาย', '26-30', 'ชอบ'], ['31/10/2021 17:19:19', 'Picture B', 'หญิง', '26-30', 'ชอบ'], ['31/10/2021 17:20:28', 'Picture B', 'หญิง', '26-30', 'ไม่ชอบ'], ['31/10/2021 17:20:40', 'Picture B', 'ชาย', '26-30', 'ชอบ'], ['31/10/2021 17:21:22', 'Picture A', 'ชาย', '31-35', 'ชอบ'], ['31/10/2021 17:21:23', 'Picture B', 'ชาย', '26-30', 'ชอบ'], ['31/10/2021 17:21:40', 'Picture B', 'หญิง', '26-30', 'ชอบ'], ['31/10/2021 17:21:41', 'Picture B', 'หญิง', '26-30', 'ชอบ'], ['31/10/2021 17:23:42', 'Picture A', 'หญิง', '26-30', 'ชอบ'], ['31/10/2021 17:23:46', 'Picture A', 'หญิง', '31-35', 'ชอบ'], ['31/10/2021 17:24:17', 'Picture A', 'หญิง', '36-40', 'ชอบ'], ['31/10/2021 17:25:42', 'Picture A', 'หญิง', '26-30', 'ชอบ'], ['31/10/2021 17:25:50', 'Picture A', 'หญิง', '26-30', 'ชอบ'], ['31/10/2021 17:26:01', 'Picture A', 'ชาย', '26-30', 'ชอบ'], ['31/10/2021 17:26:05', 'Picture A', 'ชาย', '26-30', 'ชอบ'], ['31/10/2021 17:26:27', 'Picture B', 'ชาย', '31-35', 'ชอบ'], ['31/10/2021 17:26:28', 'Picture A', 'หญิง', '26-30', 'ไม่ชอบ'], ['31/10/2021 17:26:41', 'Picture B', 'ชาย', '36-40', 'ไม่ชอบ'], ['31/10/2021 17:26:47', 'Picture A', 'ชาย', '26-30', 'ชอบ'], ['31/10/2021 17:26:58', 'Picture A', 'หญิง', '26-30', 'ชอบ'], ['31/10/2021 17:27:30', 'Picture B', 'ชาย', '26-30', 'ชอบ'], ['31/10/2021 17:27:58', 'Picture A', 'หญิง', '31-35', 'ชอบ'], ['31/10/2021 17:28:46', 'Picture B', 'ชาย', '26-30', 'ไม่ชอบ'], ['31/10/2021 17:29:12', 'Picture B', 'ชาย', '20-25', 'ชอบ'], ['31/10/2021 17:29:58', 'Picture A', 'ชาย', '31-35', 'ไม่ชอบ'], ['31/10/2021 17:32:35', 'Picture A', 'หญิง', '26-30', 'ไม่ชอบ'], ['31/10/2021 17:33:42', 'Picture B', 'หญิง', '31-35', 'ชอบ'], ['31/10/2021 17:36:23', 'Picture A', 'ชาย', '26-30', 'ชอบ'], ['31/10/2021 17:37:12', 'Picture B', 'หญิง', '20-25', 'ชอบ'], ['31/10/2021 17:37:15', 'Picture A', 'หญิง', '26-30', 'ไม่ชอบ'], ['31/10/2021 17:39:19', 'Picture A', 'หญิง', '26-30', 'ชอบ'], ['31/10/2021 17:41:40', 'Picture B', 'LGBTQ', '31-35', 'ชอบ'], ['31/10/2021 17:44:15', 'Picture A', 'ชาย', '31-35', 'ชอบ'], ['31/10/2021 17:44:54', 'Picture A', 'ชาย', '36-40', 'ชอบ'], ['31/10/2021 17:48:08', 'Picture A', 'ชาย', '36-40', 'ชอบ'], ['31/10/2021 17:48:31', 'Picture A', 'ชาย', '31-35', 'ชอบ'], ['31/10/2021 17:48:47', 'Picture A', 'ชาย', '36-40', 'ชอบ'], ['31/10/2021 17:54:48', 'Picture A', 'หญิง', '31-35', 'ชอบ'], ['31/10/2021 18:05:01', 'Picture A', 'ชาย', '36-40', 'ชอบ']]\n"
     ]
    },
    {
     "data": {
      "text/plain": [
       "(52, 5)"
      ]
     },
     "execution_count": 43,
     "metadata": {},
     "output_type": "execute_result"
    }
   ],
   "source": [
    "from google.colab import auth\n",
    "auth.authenticate_user()\n",
    "\n",
    "import gspread\n",
    "from oauth2client.client import GoogleCredentials\n",
    "\n",
    "gc = gspread.authorize(GoogleCredentials.get_application_default())\n",
    "\n",
    "worksheet = gc.open('Group 10 - A/B Test (Responses)').sheet1\n",
    "\n",
    "# get_all_values gives a list of rows.\n",
    "rows = worksheet.get_all_values()\n",
    "print(rows)\n",
    "\n",
    "# Convert to a DataFrame and render.\n",
    "import pandas as pd\n",
    "df = pd.DataFrame.from_records(rows[1:] ,columns=['timestamp', 'picture', 'sex', 'age','like_donut'])\n",
    "df.shape"
   ]
  },
  {
   "cell_type": "code",
   "execution_count": null,
   "metadata": {
    "colab": {
     "base_uri": "https://localhost:8080/",
     "height": 142
    },
    "id": "zO8lLJwY-5oH",
    "outputId": "8f28ad9e-74cf-46d3-c555-44c3e89a62d1"
   },
   "outputs": [
    {
     "data": {
      "text/html": [
       "<div>\n",
       "<style scoped>\n",
       "    .dataframe tbody tr th:only-of-type {\n",
       "        vertical-align: middle;\n",
       "    }\n",
       "\n",
       "    .dataframe tbody tr th {\n",
       "        vertical-align: top;\n",
       "    }\n",
       "\n",
       "    .dataframe thead th {\n",
       "        text-align: right;\n",
       "    }\n",
       "</style>\n",
       "<table border=\"1\" class=\"dataframe\">\n",
       "  <thead>\n",
       "    <tr style=\"text-align: right;\">\n",
       "      <th>sex</th>\n",
       "      <th>LGBTQ</th>\n",
       "      <th>ชาย</th>\n",
       "      <th>หญิง</th>\n",
       "    </tr>\n",
       "    <tr>\n",
       "      <th>picture</th>\n",
       "      <th></th>\n",
       "      <th></th>\n",
       "      <th></th>\n",
       "    </tr>\n",
       "  </thead>\n",
       "  <tbody>\n",
       "    <tr>\n",
       "      <th>Picture A</th>\n",
       "      <td>0.0</td>\n",
       "      <td>17.0</td>\n",
       "      <td>13.0</td>\n",
       "    </tr>\n",
       "    <tr>\n",
       "      <th>Picture B</th>\n",
       "      <td>1.0</td>\n",
       "      <td>14.0</td>\n",
       "      <td>6.0</td>\n",
       "    </tr>\n",
       "  </tbody>\n",
       "</table>\n",
       "</div>"
      ],
      "text/plain": [
       "sex        LGBTQ   ชาย  หญิง\n",
       "picture                     \n",
       "Picture A    0.0  17.0  13.0\n",
       "Picture B    1.0  14.0   6.0"
      ]
     },
     "execution_count": 26,
     "metadata": {},
     "output_type": "execute_result"
    }
   ],
   "source": [
    "#df[['picture','sex']].value_counts().unstack().fillna(0)"
   ]
  },
  {
   "cell_type": "markdown",
   "metadata": {
    "id": "_lGly6hUEQJH"
   },
   "source": [
    "## Gender"
   ]
  },
  {
   "cell_type": "code",
   "execution_count": null,
   "metadata": {
    "colab": {
     "base_uri": "https://localhost:8080/"
    },
    "id": "SC-zcWcTCUQW",
    "outputId": "de684274-5f73-484c-acc0-76b122b350bf"
   },
   "outputs": [
    {
     "name": "stdout",
     "output_type": "stream",
     "text": [
      "sex        LGBTQ  ชาย  หญิง  All\n",
      "picture                         \n",
      "Picture A      0   18    13   31\n",
      "Picture B      1   14     6   21\n",
      "All            1   32    19   52\n"
     ]
    }
   ],
   "source": [
    "chisqt = pd.crosstab(df['picture'], df['sex'], margins = True)\n",
    "print(chisqt)"
   ]
  },
  {
   "cell_type": "code",
   "execution_count": null,
   "metadata": {
    "colab": {
     "base_uri": "https://localhost:8080/"
    },
    "id": "UwYDykpJC8eS",
    "outputId": "9c0cfe1c-dfcd-4d78-af08-a022ccd2aa8c"
   },
   "outputs": [
    {
     "name": "stdout",
     "output_type": "stream",
     "text": [
      "chi-square: 2.2386611690516616\n",
      "p-value: 0.3264982844885583\n",
      "dof: 2\n"
     ]
    }
   ],
   "source": [
    "from scipy.stats import chi2_contingency\n",
    "value = np.array([chisqt.iloc[0][0:3].values,\n",
    "                  chisqt.iloc[1][0:3].values])\n",
    "print('chi-square:', chi2_contingency(value)[0])\n",
    "print('p-value:', chi2_contingency(value)[1])\n",
    "print('dof:', chi2_contingency(value)[2])"
   ]
  },
  {
   "cell_type": "markdown",
   "metadata": {
    "id": "Bnesh5LLEYdj"
   },
   "source": [
    "## Age"
   ]
  },
  {
   "cell_type": "code",
   "execution_count": null,
   "metadata": {
    "colab": {
     "base_uri": "https://localhost:8080/"
    },
    "id": "FsE85MHEEebB",
    "outputId": "3f64c216-115c-4ce3-e273-2fead1bf7b36"
   },
   "outputs": [
    {
     "name": "stdout",
     "output_type": "stream",
     "text": [
      "age        20-25  26-30  31-35  36-40  All\n",
      "picture                                   \n",
      "Picture A      0     16      9      6   31\n",
      "Picture B      3     11      6      1   21\n",
      "All            3     27     15      7   52\n"
     ]
    }
   ],
   "source": [
    "chisqt = pd.crosstab(df['picture'], df['age'], margins = True)\n",
    "print(chisqt)"
   ]
  },
  {
   "cell_type": "code",
   "execution_count": null,
   "metadata": {
    "colab": {
     "base_uri": "https://localhost:8080/"
    },
    "id": "4nwLGJ-KEhnw",
    "outputId": "69deaea2-7fd9-4b10-ab69-e615c726c80b"
   },
   "outputs": [
    {
     "name": "stdout",
     "output_type": "stream",
     "text": [
      "chi-square: 6.411385008005592\n",
      "p-value: 0.0932235414027565\n",
      "dof: 3\n"
     ]
    }
   ],
   "source": [
    "value = np.array([chisqt.iloc[0][0:4].values,\n",
    "                  chisqt.iloc[1][0:4].values])\n",
    "print('chi-square:', chi2_contingency(value)[0])\n",
    "print('p-value:', chi2_contingency(value)[1])\n",
    "print('dof:', chi2_contingency(value)[2])"
   ]
  },
  {
   "cell_type": "markdown",
   "metadata": {
    "id": "k6qSMzqEEppE"
   },
   "source": [
    "## Like_dount"
   ]
  },
  {
   "cell_type": "code",
   "execution_count": null,
   "metadata": {
    "colab": {
     "base_uri": "https://localhost:8080/"
    },
    "id": "r1LuxZNqEwit",
    "outputId": "2226fe54-328c-4da0-a1c2-307b52bdd7e3"
   },
   "outputs": [
    {
     "name": "stdout",
     "output_type": "stream",
     "text": [
      "like_donut  ชอบ  ไม่ชอบ  All\n",
      "picture                     \n",
      "Picture A    26       5   31\n",
      "Picture B    16       5   21\n",
      "All          42      10   52\n"
     ]
    }
   ],
   "source": [
    "chisqt = pd.crosstab(df['picture'], df['like_donut'], margins = True)\n",
    "print(chisqt)"
   ]
  },
  {
   "cell_type": "code",
   "execution_count": null,
   "metadata": {
    "colab": {
     "base_uri": "https://localhost:8080/"
    },
    "id": "4SensBhgEygs",
    "outputId": "746b4f4a-324b-4ee2-e237-9529aa21d98e"
   },
   "outputs": [
    {
     "name": "stdout",
     "output_type": "stream",
     "text": [
      "chi-square: 0.10954575378538503\n",
      "p-value: 0.7406618823771328\n",
      "dof: 1\n"
     ]
    }
   ],
   "source": [
    "value = np.array([chisqt.iloc[0][0:2].values,\n",
    "                  chisqt.iloc[1][0:2].values])\n",
    "print('chi-square:', chi2_contingency(value)[0])\n",
    "print('p-value:', chi2_contingency(value)[1])\n",
    "print('dof:', chi2_contingency(value)[2])"
   ]
  },
  {
   "cell_type": "code",
   "execution_count": null,
   "metadata": {
    "id": "opgHC2l5E3X_"
   },
   "outputs": [],
   "source": []
  }
 ],
 "metadata": {
  "colab": {
   "name": "AB_Testing.ipynb",
   "provenance": []
  },
  "kernelspec": {
   "display_name": "Python 3",
   "language": "python",
   "name": "python3"
  },
  "language_info": {
   "codemirror_mode": {
    "name": "ipython",
    "version": 3
   },
   "file_extension": ".py",
   "mimetype": "text/x-python",
   "name": "python",
   "nbconvert_exporter": "python",
   "pygments_lexer": "ipython3",
   "version": "3.7.6"
  }
 },
 "nbformat": 4,
 "nbformat_minor": 1
}
